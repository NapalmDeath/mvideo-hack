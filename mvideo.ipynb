{
 "cells": [
  {
   "cell_type": "code",
   "execution_count": 1,
   "metadata": {},
   "outputs": [
    {
     "name": "stderr",
     "output_type": "stream",
     "text": [
      "Using TensorFlow backend.\n"
     ]
    }
   ],
   "source": [
    "import os\n",
    "\n",
    "import numpy as np\n",
    "import pandas as pd\n",
    "from matplotlib import pyplot as plt\n",
    "import pymorphy2\n",
    "from sklearn.model_selection import train_test_split\n",
    "from sklearn.preprocessing import MinMaxScaler\n",
    "\n",
    "from keras.preprocessing import sequence\n",
    "from keras.preprocessing.text import Tokenizer\n",
    "from keras.preprocessing.sequence import pad_sequences\n",
    "from keras.callbacks import ModelCheckpoint, TensorBoard\n",
    "from keras_tqdm import TQDMNotebookCallback\n",
    "\n",
    "from keras.models import Sequential, Model\n",
    "from keras.layers import Dense\n",
    "from keras.layers import Flatten, Lambda\n",
    "from keras.layers import Input, Dropout\n",
    "from keras.layers import Activation\n",
    "from keras.layers import Concatenate, concatenate, Multiply\n",
    "from keras.layers import Embedding\n",
    "from keras.layers import Convolution1D, Conv1D\n",
    "from keras.layers import MaxPooling1D\n",
    "from keras.layers import GlobalMaxPooling1D\n",
    "from keras.layers import LSTM, GRU\n",
    "from keras.layers.normalization import BatchNormalization\n",
    "\n",
    "from nltk.corpus import stopwords\n",
    "\n",
    "%matplotlib inline"
   ]
  },
  {
   "cell_type": "code",
   "execution_count": 2,
   "metadata": {
    "collapsed": true
   },
   "outputs": [],
   "source": [
    "STOP_WORDS = stopwords.words('russian')\n",
    "morph = pymorphy2.MorphAnalyzer()"
   ]
  },
  {
   "cell_type": "markdown",
   "metadata": {},
   "source": [
    "# Считывание и подготовка данных\n",
    "\n",
    "* Чтение файла\n",
    "* Округление рейтинга\n",
    "* Препроцессинг текста: удаление пунктуации, стоп-слов, приведение к нормальной форме"
   ]
  },
  {
   "cell_type": "code",
   "execution_count": 3,
   "metadata": {
    "collapsed": true
   },
   "outputs": [],
   "source": [
    "df = pd.read_csv('X_train.csv')\n",
    "df.rename(columns={'reting': 'rating'}, inplace=True)\n",
    "df.rating = df.rating.apply(lambda x: round(x))"
   ]
  },
  {
   "cell_type": "code",
   "execution_count": 4,
   "metadata": {
    "collapsed": true
   },
   "outputs": [],
   "source": [
    "NUM_CLASSES = len(df.rating.unique())"
   ]
  },
  {
   "cell_type": "code",
   "execution_count": 5,
   "metadata": {
    "collapsed": true
   },
   "outputs": [],
   "source": [
    "from string import punctuation\n",
    "\n",
    "def preprocess(text, drop_punct=True, drop_stop=True, normalize=True):\n",
    "    text = text.lower()\n",
    "    \n",
    "    if drop_punct:\n",
    "        text = ''.join([c for c in text if c not in punctuation])\n",
    "    \n",
    "    if drop_stop:\n",
    "        text = text.split()\n",
    "        text = [w for w in text if not w.lower() in STOP_WORDS]\n",
    "        text = \" \".join(text)\n",
    "    \n",
    "    if normalize:\n",
    "        text = text.split()\n",
    "        text = [morph.parse(w)[0].normal_form for w in text]\n",
    "        text = \" \".join(text)\n",
    "\n",
    "    return text"
   ]
  },
  {
   "cell_type": "code",
   "execution_count": 6,
   "metadata": {
    "collapsed": true
   },
   "outputs": [],
   "source": [
    "df.comment = df.comment.apply(preprocess)\n",
    "base_df = df.copy()"
   ]
  },
  {
   "cell_type": "markdown",
   "metadata": {},
   "source": [
    "## Построим распределение длин текстов"
   ]
  },
  {
   "cell_type": "code",
   "execution_count": 7,
   "metadata": {},
   "outputs": [
    {
     "data": {
      "image/png": "[encoded data removed]",
      "text/plain": [
       "<matplotlib.figure.Figure at 0x7f48b5ea7fd0>"
      ]
     },
     "metadata": {},
     "output_type": "display_data"
    }
   ],
   "source": [
    "lengths = df.comment.apply(lambda x: len(x.split()))\n",
    "plt.hist(lengths);"
   ]
  },
  {
   "cell_type": "markdown",
   "metadata": {},
   "source": [
    "## Подготовка категориальных данных"
   ]
  },
  {
   "cell_type": "code",
   "execution_count": 8,
   "metadata": {},
   "outputs": [
    {
     "name": "stderr",
     "output_type": "stream",
     "text": [
      "/root/env/lib/python3.5/site-packages/sklearn/utils/validation.py:429: DataConversionWarning: Data with input dtype int64 was converted to float64 by MinMaxScaler.\n",
      "  warnings.warn(msg, _DataConversionWarning)\n"
     ]
    }
   ],
   "source": [
    "def convert_to_category(df, feature):\n",
    "    keys = df[feature].unique()\n",
    "    values = list(range(len(keys)))\n",
    "    mapping = dict(zip(keys, values))\n",
    "    return df[feature].apply(lambda x: mapping[x])\n",
    "\n",
    "features = ['categoryLevel1Id', 'brandId', 'sku', 'categoryLevel2Id', 'userName']\n",
    "\n",
    "for feature in features:\n",
    "    df[feature] = MinMaxScaler().fit_transform(convert_to_category(df, feature).values.reshape(-1, 1))"
   ]
  },
  {
   "cell_type": "markdown",
   "metadata": {},
   "source": [
    "## Токенизация текстов (преобразование слов в их индексы в словаре)"
   ]
  },
  {
   "cell_type": "code",
   "execution_count": 9,
   "metadata": {
    "collapsed": true
   },
   "outputs": [],
   "source": [
    "nb_top_words = None\n",
    "sentence_length = 150\n",
    "embedding_dim = 100\n",
    "\n",
    "texts = df.comment\n",
    "tokenizer = Tokenizer(num_words=nb_top_words)\n",
    "tokenizer.fit_on_texts(texts)\n",
    "sequences = tokenizer.texts_to_sequences(texts)\n",
    "word_index = tokenizer.word_index"
   ]
  },
  {
   "cell_type": "markdown",
   "metadata": {},
   "source": [
    "## Паддинг предложений (заполнение нулями до определенной длины)\n",
    "\n",
    "Оптимальную длину определили по распределению выше"
   ]
  },
  {
   "cell_type": "code",
   "execution_count": 10,
   "metadata": {
    "collapsed": true
   },
   "outputs": [],
   "source": [
    "sequences = pad_sequences(sequences, maxlen=sentence_length)"
   ]
  },
  {
   "cell_type": "markdown",
   "metadata": {},
   "source": [
    "## Перемешивание данных"
   ]
  },
  {
   "cell_type": "code",
   "execution_count": 11,
   "metadata": {
    "collapsed": true
   },
   "outputs": [],
   "source": [
    "def shuffle(*arrs):\n",
    "    a = arrs[0]\n",
    "    p = np.random.permutation(len(a))\n",
    "    return list(map(lambda arr: arr[p], arrs))\n",
    "\n",
    "sequences, df = shuffle(sequences, df.loc)"
   ]
  },
  {
   "cell_type": "markdown",
   "metadata": {},
   "source": [
    "## Разделение данных на train, validation и test"
   ]
  },
  {
   "cell_type": "code",
   "execution_count": 16,
   "metadata": {
    "collapsed": true
   },
   "outputs": [],
   "source": [
    "random_state = 1\n",
    "val_size = 0.2\n",
    "test_size = 0.1\n",
    "df_train, df_test = train_test_split(df, test_size=test_size, random_state=random_state)\n",
    "seq_train, seq_test = train_test_split(sequences, test_size=test_size, random_state=random_state)\n",
    "\n",
    "df_train, df_val = train_test_split(df_train, test_size=val_size, random_state=random_state)\n",
    "seq_train, seq_val = train_test_split(seq_train, test_size=val_size, random_state=random_state)\n",
    "\n",
    "y_train = df_train.rating.apply(lambda x: x - 1)\n",
    "y_val = df_val.rating.apply(lambda x: x - 1)\n",
    "y_test = df_test.rating.apply(lambda x: x - 1)"
   ]
  },
  {
   "cell_type": "code",
   "execution_count": 17,
   "metadata": {},
   "outputs": [
    {
     "name": "stdout",
     "output_type": "stream",
     "text": [
      "x_train shape: (11222, 11), y_train shape: (11222,)\n",
      "x_val shape: (1559, 11), y_val shape: (1559,)\n",
      "x_test shape: (2806, 11), y_test shape: (2806,)\n"
     ]
    }
   ],
   "source": [
    "print('x_train shape: {}, y_train shape: {}'.format(df_train.shape, y_train.shape))\n",
    "print('x_val shape: {}, y_val shape: {}'.format(df_test.shape, y_test.shape))\n",
    "print('x_test shape: {}, y_test shape: {}'.format(df_val.shape, y_val.shape))"
   ]
  },
  {
   "cell_type": "markdown",
   "metadata": {},
   "source": [
    "## Создание модели на Keras\n",
    "\n",
    "![архитектура](arch.jpg)"
   ]
  },
  {
   "cell_type": "code",
   "execution_count": 18,
   "metadata": {
    "collapsed": true
   },
   "outputs": [],
   "source": [
    "def emb_layer(input_length=sentence_length):\n",
    "    emb = Embedding(len(word_index) + 1,\n",
    "                    embedding_dim,\n",
    "                    weights=None,\n",
    "                    input_length=input_length,\n",
    "                    trainable=True\n",
    "                   )    \n",
    "    return emb\n",
    "\n",
    "def model_lstm():\n",
    "    input_texts = Input(shape=(sentence_length,), dtype='float32', name='input_texts')\n",
    "    input_features = Input(shape=(len(features),), dtype='float32', name='input_features')\n",
    "    \n",
    "    emb_text = emb_layer()(input_texts)\n",
    "    net_text = LSTM(16)(emb_text)\n",
    "    net_text = Dropout(0.2)(net_text)\n",
    "    \n",
    "    net_features = Dense(32, activation='relu')(input_features)\n",
    "    net_features = Dropout(0.2)(net_features)\n",
    "    \n",
    "    net = concatenate([net_text, net_features])\n",
    "    net = Dense(32)(net)\n",
    "    \n",
    "    output = Dense(NUM_CLASSES, activation='sigmoid')(net)\n",
    "\n",
    "    model = Model(inputs=[input_texts, input_features], outputs=[output])\n",
    "    model.compile(loss='sparse_categorical_crossentropy', optimizer='adam', metrics=['accuracy'])\n",
    "    return model"
   ]
  },
  {
   "cell_type": "markdown",
   "metadata": {},
   "source": [
    "## Обучение модели\n",
    "\n",
    "Используем сохранение лучшей модели по loss и затем восстановим ее для проведения проверки на test set"
   ]
  },
  {
   "cell_type": "code",
   "execution_count": null,
   "metadata": {
    "scrolled": true
   },
   "outputs": [
    {
     "name": "stdout",
     "output_type": "stream",
     "text": [
      "\n"
     ]
    },
    {
     "name": "stderr",
     "output_type": "stream",
     "text": [
      "Widget Javascript not detected.  It may not be installed or enabled properly.\n"
     ]
    },
    {
     "data": {
      "application/vnd.jupyter.widget-view+json": {
       "model_id": "bceeaf3e29eb4f5683deeb0e693f240e"
      }
     },
     "metadata": {},
     "output_type": "display_data"
    },
    {
     "name": "stderr",
     "output_type": "stream",
     "text": [
      "Widget Javascript not detected.  It may not be installed or enabled properly.\n"
     ]
    },
    {
     "data": {
      "application/vnd.jupyter.widget-view+json": {
       "model_id": "7183a57857004498ac22413bf03a2ee7"
      }
     },
     "metadata": {},
     "output_type": "display_data"
    },
    {
     "name": "stdout",
     "output_type": "stream",
     "text": [
      "Epoch 00000: val_loss improved from inf to 1.00778, saving model to ./models/mvideo.hdf5\n"
     ]
    },
    {
     "name": "stderr",
     "output_type": "stream",
     "text": [
      "Widget Javascript not detected.  It may not be installed or enabled properly.\n"
     ]
    },
    {
     "data": {
      "application/vnd.jupyter.widget-view+json": {
       "model_id": "ea9180db01de40d3af02ea4446ed8b7e"
      }
     },
     "metadata": {},
     "output_type": "display_data"
    },
    {
     "name": "stdout",
     "output_type": "stream",
     "text": [
      "Epoch 00001: val_loss improved from 1.00778 to 0.97927, saving model to ./models/mvideo.hdf5\n"
     ]
    },
    {
     "name": "stderr",
     "output_type": "stream",
     "text": [
      "Widget Javascript not detected.  It may not be installed or enabled properly.\n"
     ]
    },
    {
     "data": {
      "application/vnd.jupyter.widget-view+json": {
       "model_id": "e426ec9c91c048bcab4f2acee6a178d7"
      }
     },
     "metadata": {},
     "output_type": "display_data"
    }
   ],
   "source": [
    "model = model_lstm()\n",
    "\n",
    "models_path = './models'\n",
    "if not os.path.exists(models_path):\n",
    "    os.mkdir(models_path)\n",
    "\n",
    "best_model_path = os.path.join(models_path, 'mvideo.hdf5')\n",
    "\n",
    "x_train = [seq_train, df_train[features].as_matrix()]\n",
    "x_val = [seq_val, df_val[features].as_matrix()]\n",
    "\n",
    "epochs = 4\n",
    "h = model.fit(x_train, y_train, \n",
    "          epochs=epochs, \n",
    "          batch_size=64, \n",
    "          verbose=0,\n",
    "          shuffle=True,\n",
    "          validation_data=(x_val, y_val),\n",
    "          callbacks=[\n",
    "              ModelCheckpoint(filepath=best_model_path, monitor='val_loss', verbose=1, save_best_only=True),\n",
    "              TQDMNotebookCallback()\n",
    "          ])"
   ]
  },
  {
   "cell_type": "markdown",
   "metadata": {},
   "source": [
    "## Графики обучения модели"
   ]
  },
  {
   "cell_type": "code",
   "execution_count": 21,
   "metadata": {},
   "outputs": [
    {
     "ename": "NameError",
     "evalue": "name 'h' is not defined",
     "output_type": "error",
     "traceback": [
      "\u001b[0;31m---------------------------------------------------------------------------\u001b[0m",
      "\u001b[0;31mNameError\u001b[0m                                 Traceback (most recent call last)",
      "\u001b[0;32m<ipython-input-21-85ee50c8312d>\u001b[0m in \u001b[0;36m<module>\u001b[0;34m()\u001b[0m\n\u001b[0;32m----> 1\u001b[0;31m \u001b[0mhistory\u001b[0m \u001b[0;34m=\u001b[0m \u001b[0mh\u001b[0m\u001b[0;34m\u001b[0m\u001b[0m\n\u001b[0m\u001b[1;32m      2\u001b[0m \u001b[0;31m# summarize history for accuracy\u001b[0m\u001b[0;34m\u001b[0m\u001b[0;34m\u001b[0m\u001b[0m\n\u001b[1;32m      3\u001b[0m \u001b[0mplt\u001b[0m\u001b[0;34m.\u001b[0m\u001b[0mplot\u001b[0m\u001b[0;34m(\u001b[0m\u001b[0mhistory\u001b[0m\u001b[0;34m.\u001b[0m\u001b[0mhistory\u001b[0m\u001b[0;34m[\u001b[0m\u001b[0;34m'acc'\u001b[0m\u001b[0;34m]\u001b[0m\u001b[0;34m)\u001b[0m\u001b[0;34m\u001b[0m\u001b[0m\n\u001b[1;32m      4\u001b[0m \u001b[0mplt\u001b[0m\u001b[0;34m.\u001b[0m\u001b[0mplot\u001b[0m\u001b[0;34m(\u001b[0m\u001b[0mhistory\u001b[0m\u001b[0;34m.\u001b[0m\u001b[0mhistory\u001b[0m\u001b[0;34m[\u001b[0m\u001b[0;34m'val_acc'\u001b[0m\u001b[0;34m]\u001b[0m\u001b[0;34m)\u001b[0m\u001b[0;34m\u001b[0m\u001b[0m\n\u001b[1;32m      5\u001b[0m \u001b[0mplt\u001b[0m\u001b[0;34m.\u001b[0m\u001b[0mtitle\u001b[0m\u001b[0;34m(\u001b[0m\u001b[0;34m'model accuracy'\u001b[0m\u001b[0;34m)\u001b[0m\u001b[0;34m\u001b[0m\u001b[0m\n",
      "\u001b[0;31mNameError\u001b[0m: name 'h' is not defined"
     ]
    }
   ],
   "source": [
    "history = h\n",
    "# summarize history for accuracy\n",
    "plt.plot(history.history['acc'])\n",
    "plt.plot(history.history['val_acc'])\n",
    "plt.title('model accuracy')\n",
    "plt.ylabel('accuracy')\n",
    "plt.xlabel('epoch')\n",
    "plt.legend(['train', 'val'], loc='upper left')\n",
    "plt.show()\n",
    "# summarize history for loss\n",
    "plt.plot(history.history['loss'])\n",
    "plt.plot(history.history['val_loss'])\n",
    "plt.title('model loss')\n",
    "plt.ylabel('loss')\n",
    "plt.xlabel('epoch')\n",
    "plt.legend(['train', 'val'], loc='upper left')\n",
    "plt.show()"
   ]
  },
  {
   "cell_type": "markdown",
   "metadata": {
    "collapsed": true
   },
   "source": [
    "# Проверка работы модели на test set"
   ]
  },
  {
   "cell_type": "code",
   "execution_count": null,
   "metadata": {
    "collapsed": true
   },
   "outputs": [],
   "source": [
    "x_test = [seq_test, df_test[features].as_matrix()]\n",
    "\n",
    "y_pred = model.predict(x_test)\n"
   ]
  }
 ],
 "metadata": {
  "kernelspec": {
   "display_name": "Python 3",
   "language": "python",
   "name": "python3"
  },
  "language_info": {
   "codemirror_mode": {
    "name": "ipython",
    "version": 3
   },
   "file_extension": ".py",
   "mimetype": "text/x-python",
   "name": "python",
   "nbconvert_exporter": "python",
   "pygments_lexer": "ipython3",
   "version": "3.5.2"
  }
 },
 "nbformat": 4,
 "nbformat_minor": 2
}
